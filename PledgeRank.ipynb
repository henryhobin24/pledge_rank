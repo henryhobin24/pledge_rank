{
 "cells": [
  {
   "cell_type": "code",
   "execution_count": 1,
   "id": "b9459064",
   "metadata": {},
   "outputs": [],
   "source": [
    "# App imports\n",
    "from flask import Flask, request, render_template_string, redirect, url_for\n",
    "from flask_sqlalchemy import SQLAlchemy\n",
    "from datetime import datetime\n",
    "from threading import Thread\n",
    "\n",
    "# Chart inputs\n",
    "from collections import defaultdict\n",
    "import matplotlib.pyplot as plt\n",
    "from datetime import datetime\n",
    "\n",
    "# JS imports\n",
    "from io import BytesIO\n",
    "import base64"
   ]
  },
  {
   "cell_type": "code",
   "execution_count": 2,
   "id": "7e8873f6",
   "metadata": {},
   "outputs": [],
   "source": [
    "# initializing flask app and sqlalchemy\n",
    "app = Flask(__name__)\n",
    "app.config['SQLALCHEMY_DATABASE_URI'] = 'sqlite:///names.db'\n",
    "db = SQLAlchemy(app)"
   ]
  },
  {
   "cell_type": "code",
   "execution_count": 3,
   "id": "2e98473b",
   "metadata": {},
   "outputs": [],
   "source": [
    "# creating model class\n",
    "class Name(db.Model):\n",
    "    id = db.Column(db.Integer, primary_key=True)\n",
    "    name = db.Column(db.String(100), nullable=False)\n",
    "    date_created = db.Column(db.DateTime, default=datetime.utcnow)\n",
    "    rating = db.Column(db.Float, nullable=False)"
   ]
  },
  {
   "cell_type": "code",
   "execution_count": 4,
   "id": "8b399d08",
   "metadata": {},
   "outputs": [],
   "source": [
    "# creating database\n",
    "with app.app_context():\n",
    "    db.create_all()"
   ]
  },
  {
   "cell_type": "code",
   "execution_count": 5,
   "id": "0f700f2c",
   "metadata": {},
   "outputs": [],
   "source": [
    "# defining Flask app routes\n",
    "@app.route(\"/\", methods=['GET', 'POST'])\n",
    "def index():\n",
    "    try:\n",
    "        if request.method == 'POST':\n",
    "            name = request.form['name']\n",
    "            rating = float(request.form['rating'])\n",
    "            new_name = Name(name=name, rating=rating)\n",
    "            db.session.add(new_name)\n",
    "            db.session.commit()\n",
    "            return redirect(\"/\")\n",
    "    \n",
    "        else:\n",
    "            names = Name.query.order_by(Name.date_created).all()\n",
    "            return render_template_string(index_html, names=names)\n",
    "    except Exception as e:\n",
    "        return f\"An error occurred: {e}\"\n",
    "\n",
    "@app.route(\"/dashboard\")\n",
    "def dashboard():\n",
    "    try:\n",
    "        names = Name.query.order_by(Name.date_created).all()\n",
    "        return render_template_string(dashboard_html, names=names)\n",
    "    except Exception as e:\n",
    "        return f\"An error occured: {e}\"\n",
    "\n",
    "@app.route('/plot.png')\n",
    "def plot_png():\n",
    "    fig = plot_ratings()\n",
    "    output = BytesIO()\n",
    "    fig.savefig(output, format='png')\n",
    "    output.seek(0)\n",
    "    return send_file(output, mimetype='image/png')\n",
    "\n",
    "def plot_ratings():\n",
    "    with app.app_context():\n",
    "        all_data = Name.query.all()\n",
    "        # structure to hold the average rating for each name by day\n",
    "        ratings_by_day = defaultdict(lambda: defaultdict(list))\n",
    "        # Looping through data to populate ratings_by_day\n",
    "        for data_point in all_data:\n",
    "            day = data_point.date_created.date()\n",
    "            name = data_point.name\n",
    "            rating = data_point.rating\n",
    "            \n",
    "            # Appending ratings by day\n",
    "            ratings_by_day[day][name].append(rating)\n",
    "            \n",
    "        # calculating daily average rating for each name\n",
    "        avg_ratings_by_day = defaultdict(dict)\n",
    "        for day, names in ratings_by_day.items():\n",
    "            for name, ratings in names.items():\n",
    "                avg_ratings_by_day[day][name] = sum(ratings) / len(ratings)\n",
    "                \n",
    "        # preparing data for plotting\n",
    "        days = sorted(avg_ratings_by_day.keys())\n",
    "        unique_names = set(name for names in avg_ratings_by_day.values() for name in names.keys())\n",
    "        \n",
    "        # creating plot object\n",
    "        plt.figure(figsize=(12,8))\n",
    "        \n",
    "        for name in unique_names:\n",
    "            avg_ratings = [avg_ratings_by_day[day].get(name, None) for day in days]\n",
    "            plt.plot(days, avg_ratings, label=name)\n",
    "            \n",
    "        plt.xlabel('Day')\n",
    "        plt.ylabel('Average Rating')\n",
    "        plt.legend(title='Pledges')\n",
    "        plt.title('Ranking of The Goats')\n",
    "        plt.show()\n",
    "\n",
    "    return plt.gcf()"
   ]
  },
  {
   "cell_type": "code",
   "execution_count": 6,
   "id": "bcf28025",
   "metadata": {},
   "outputs": [],
   "source": [
    "# HTML code for index and dashboard\n",
    "dashboard_html = '''\n",
    "<!DOCTYPE html>\n",
    "<html>\n",
    "<head>\n",
    "    <title>Dashboard</title>\n",
    "</head>\n",
    "<body style=\"font-family: Arial, sans-serif;\">\n",
    "    <h1 style=\"text-align:center;\">Dashboard</h1>\n",
    "    <hr>\n",
    "    <h2>Previous Ratings</h2>\n",
    "    <ul>\n",
    "        {% for name in names %}\n",
    "        <li>{{ name.name }} - {{ name.rating }}</li>\n",
    "        {% endfor %}\n",
    "    </ul>\n",
    "</body>\n",
    "</html>\n",
    "<img id=\"plot\" src=\"{{ url_for('plot_png') }}\" alt=\"Ratings Plot\">\n",
    "<script type=\"text/javascript\">\n",
    "    function refreshImage(){\n",
    "        var img = document.getElementById('plot');\n",
    "        img.src = \"{{ url_for('plot_png') }}\" + \"?\" + new Date().getTime();\n",
    "    }\n",
    "    setInterval(refreshImage, 5000);  // Refresh every 5000 milliseconds (5 seconds)\n",
    "</script>\n",
    "'''\n",
    "\n",
    "index_html = '''\n",
    "<!DOCTYPE html>\n",
    "<html>\n",
    "<head>\n",
    "    <title>Rate Names</title>\n",
    "</head>\n",
    "<body style=\"font-family: Arial, sans-serif;\">\n",
    "    <h1 style=\"text-align:center;\">Rate Names</h1>\n",
    "    <form method=\"post\" action=\"/\" style=\"text-align: center;\">\n",
    "        <label for=\"name\">Name:</label>\n",
    "        <input type=\"text\" id=\"name\" name=\"name\" required><br><br>\n",
    "        \n",
    "        <label for=\"rating\">Rating:</label>\n",
    "        <input type=\"number\" id=\"rating\" name=\"rating\" min=\"1\" max=\"5\" required><br><br>\n",
    "\n",
    "        <input type=\"submit\" value=\"Submit\" style=\"padding: 5px 20px;\">\n",
    "    </form>\n",
    "    <hr>\n",
    "    <h2>Previous Ratings</h2>\n",
    "    <ul>\n",
    "        {% for name in names %}\n",
    "        <li>{{ name.name }} - {{ name.rating }}</li>\n",
    "        {% endfor %}\n",
    "    </ul>\n",
    "</body>\n",
    "</html>\n",
    "'''\n",
    "\n"
   ]
  },
  {
   "cell_type": "code",
   "execution_count": 7,
   "id": "745bd3dc",
   "metadata": {},
   "outputs": [],
   "source": [
    "# Running app in separate thread\n",
    "def run_app():\n",
    "    app.run(use_reloader=False, threaded=True)\n",
    "\n",
    "app_thread = Thread(target=run_app)\n",
    "app_thread.start()"
   ]
  },
  {
   "cell_type": "code",
   "execution_count": null,
   "id": "d9e6ee8e",
   "metadata": {},
   "outputs": [],
   "source": [
    "# http://127.0.0.1:5000"
   ]
  },
  {
   "cell_type": "code",
   "execution_count": 8,
   "id": "af744b88",
   "metadata": {},
   "outputs": [
    {
     "data": {
      "image/png": "[encoded data removed]",
      "text/plain": [
       "<Figure size 1200x800 with 1 Axes>"
      ]
     },
     "metadata": {},
     "output_type": "display_data"
    },
    {
     "data": {
      "text/plain": [
       "<Figure size 640x480 with 0 Axes>"
      ]
     },
     "metadata": {},
     "output_type": "display_data"
    }
   ],
   "source": [
    "plot_ratings()\n",
    "plt.show()"
   ]
  },
  {
   "cell_type": "code",
   "execution_count": null,
   "id": "7de98926",
   "metadata": {},
   "outputs": [],
   "source": []
  }
 ],
 "metadata": {
  "kernelspec": {
   "display_name": "Python 3 (ipykernel)",
   "language": "python",
   "name": "python3"
  },
  "language_info": {
   "codemirror_mode": {
    "name": "ipython",
    "version": 3
   },
   "file_extension": ".py",
   "mimetype": "text/x-python",
   "name": "python",
   "nbconvert_exporter": "python",
   "pygments_lexer": "ipython3",
   "version": "3.10.9"
  },
  "varInspector": {
   "cols": {
    "lenName": 16,
    "lenType": 16,
    "lenVar": 40
   },
   "kernels_config": {
    "python": {
     "delete_cmd_postfix": "",
     "delete_cmd_prefix": "del ",
     "library": "var_list.py",
     "varRefreshCmd": "print(var_dic_list())"
    },
    "r": {
     "delete_cmd_postfix": ") ",
     "delete_cmd_prefix": "rm(",
     "library": "var_list.r",
     "varRefreshCmd": "cat(var_dic_list()) "
    }
   },
   "types_to_exclude": [
    "module",
    "function",
    "builtin_function_or_method",
    "instance",
    "_Feature"
   ],
   "window_display": false
  }
 },
 "nbformat": 4,
 "nbformat_minor": 5
}
